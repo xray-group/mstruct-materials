{
 "cells": [
  {
   "cell_type": "markdown",
   "metadata": {},
   "source": [
    "### Pt - refrakční efekt, příloha 1"
   ]
  },
  {
   "cell_type": "code",
   "execution_count": 1,
   "metadata": {
    "tags": []
   },
   "outputs": [],
   "source": [
    "%matplotlib inline\n",
    "import numpy as np\n",
    "import matplotlib.pyplot as plt"
   ]
  },
  {
   "cell_type": "code",
   "execution_count": 2,
   "metadata": {
    "tags": []
   },
   "outputs": [],
   "source": [
    "import libMStruct as mst"
   ]
  },
  {
   "cell_type": "markdown",
   "metadata": {},
   "source": [
    "Import experimentálních dat"
   ]
  },
  {
   "cell_type": "code",
   "execution_count": 3,
   "metadata": {},
   "outputs": [
    {
     "data": {
      "image/png": "[encoded data removed]",
      "text/plain": [
       "<Figure size 432x288 with 1 Axes>"
      ]
     },
     "metadata": {
      "needs_background": "light"
     },
     "output_type": "display_data"
    }
   ],
   "source": [
    "expdata = np.loadtxt('data/tth-exp.txt').transpose()\n",
    "\n",
    "plt.plot(expdata[0,:],expdata[1,:],\"*\")\n",
    "plt.xlabel(r\"$\\alpha_i (deg)$\")\n",
    "plt.ylabel(r\"$2\\theta (deg)$\");"
   ]
  },
  {
   "cell_type": "markdown",
   "metadata": {},
   "source": [
    "Import struktury"
   ]
  },
  {
   "cell_type": "code",
   "execution_count": 4,
   "metadata": {
    "tags": []
   },
   "outputs": [
    {
     "name": "stdout",
     "output_type": "stream",
     "text": [
      "XML: Loading Crystal:\n",
      "XML: Loading Crystal:Pt-fcc(spg:F m -3 m)\n",
      "Input ScatteringPowerAtom:Pt(Pt)\n",
      "Could not find colour:Pt for ScatteringPower Pt\n",
      "XML: Loading Atom:Pt1\n"
     ]
    }
   ],
   "source": [
    "cryst = mst.CreateCrystalFromXML(\"data/structures_NiPt.xml\", \"Pt-fcc\")"
   ]
  },
  {
   "cell_type": "markdown",
   "metadata": {},
   "source": [
    "Konstrukce základních objektů:\n",
    "    - práškový záznam\n",
    "    - difrakční profil\n",
    "    - refrakční korekce (!!!)"
   ]
  },
  {
   "cell_type": "code",
   "execution_count": 5,
   "metadata": {
    "tags": []
   },
   "outputs": [],
   "source": [
    "pattern = mst.PowderPattern()\n",
    "pattern.SetWavelength(\"CuA1\")\n",
    "crystData = mst.PowderPatternDiffraction()\n",
    "crystData.SetCrystal(cryst)\n",
    "pattern.AddComponent(crystData)\n",
    "rad = mst.Radiation(\"CuA1\", 0.5)\n",
    "profile = mst.ReflectionProfile(cryst, rad)\n",
    "crystData.SetProfile(profile)\n",
    "refCorr = mst.RefractionPositionCorr()\n",
    "profile.AddComponent(refCorr)\n",
    "refCorr.SetCrystal(cryst, True)"
   ]
  },
  {
   "cell_type": "markdown",
   "metadata": {},
   "source": [
    "Přiklad - výpočet refrační korekce"
   ]
  },
  {
   "cell_type": "markdown",
   "metadata": {},
   "source": [
    "Nafituj naměřená data, proměnné:\n",
    "    - poloha reflexe obsahující všechny další korekce (zde externí parametr)\n",
    "    - relativní hustota vrozku vztažená k hustotě krystalu (mstruct)"
   ]
  },
  {
   "cell_type": "code",
   "execution_count": 6,
   "metadata": {},
   "outputs": [
    {
     "name": "stdout",
     "output_type": "stream",
     "text": [
      "MStruct::RefractionPositionCorr::GetChi0(...): Chi0 and absolute density computed for Crystal: Pt-fcc\n",
      "\tchi0: (-1.0375e-04,-1.0197e-05) (n=1-delata-ii*beta~=1+chi0/2)\n",
      "\tcritical angle: 0.52(deg)\n",
      "\tdensity: 21.442 (g/cm3)\n"
     ]
    },
    {
     "data": {
      "image/png": "[encoded data removed]",
      "text/plain": [
       "<Figure size 432x288 with 1 Axes>"
      ]
     },
     "metadata": {
      "needs_background": "light"
     },
     "output_type": "display_data"
    }
   ],
   "source": [
    "alpha_i = expdata[0,:] * np.pi/180.0 # (rad)\n",
    "ymeas = expdata[1,:] * np.pi/180.0 # (rad)\n",
    "ycalc = np.zeros(alpha_i.shape,alpha_i.dtype)\n",
    "\n",
    "rad2deg = 180.0/np.pi\n",
    "\n",
    "rel_density = 0.8 # - parameter\n",
    "tth_zero = 0.02 # (deg) - parameter\n",
    "\n",
    "refCorr.SetParams(rel_density)\n",
    "\n",
    "tthB = ymeas[-1] - tth_zero * np.pi/180.\n",
    "\n",
    "for idx,ai in enumerate(alpha_i):\n",
    "    profile.SetIncidenceAngle(ai)\n",
    "    ycalc[idx] = refCorr.GetPositionCorr(40.0*np.pi/180.0, 0.0, 0.0, 0.0) # approx peak position\n",
    "    \n",
    "plt.plot(alpha_i*rad2deg, (ymeas-tthB)*rad2deg,\"*\",alpha_i*rad2deg, ycalc*rad2deg,\"-\")\n",
    "plt.xlabel(r\"$\\alpha_i (deg)$\")\n",
    "plt.ylabel(r\"$\\Delta2\\theta_c (deg)$\");"
   ]
  },
  {
   "cell_type": "code",
   "execution_count": null,
   "metadata": {},
   "outputs": [],
   "source": []
  }
 ],
 "metadata": {
  "kernelspec": {
   "display_name": "Python 3 (ipykernel) .conda-mst-21-py3",
   "language": "python",
   "name": "conda-env-.conda-mst-21-py3-py"
  },
  "language_info": {
   "codemirror_mode": {
    "name": "ipython",
    "version": 3
   },
   "file_extension": ".py",
   "mimetype": "text/x-python",
   "name": "python",
   "nbconvert_exporter": "python",
   "pygments_lexer": "ipython3",
   "version": "3.9.6"
  }
 },
 "nbformat": 4,
 "nbformat_minor": 4
}
