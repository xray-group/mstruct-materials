{
 "cells": [
  {
   "cell_type": "code",
   "execution_count": 1,
   "metadata": {},
   "outputs": [],
   "source": [
    "%matplotlib inline\n",
    "import numpy as np\n",
    "import libMStruct as mst\n",
    "import matplotlib.pyplot as plt"
   ]
  },
  {
   "cell_type": "code",
   "execution_count": 2,
   "metadata": {},
   "outputs": [
    {
     "name": "stdout",
     "output_type": "stream",
     "text": [
      "XML: Loading Crystal:\n",
      "XML: Loading Crystal:Strontium Dodecairon(III) Oxide(spg:P 63/m m c)\n",
      "Input ScatteringPowerAtom:Sr(Sr2+)\n",
      "Could not find colour:Sr for ScatteringPower Sr\n",
      "Input ScatteringPowerAtom:Fe(Fe3+)\n",
      "Could not find colour:Fe for ScatteringPower Fe\n",
      "Input ScatteringPowerAtom:O(O2-)\n",
      "Could not find colour:O for ScatteringPower O\n",
      "XML: Loading Atom:Sr1\n",
      "XML: Loading Atom:Fe1\n",
      "XML: Loading Atom:Fe2\n",
      "XML: Loading Atom:Fe3\n",
      "XML: Loading Atom:Fe4\n",
      "XML: Loading Atom:Fe5\n",
      "XML: Loading Atom:O1\n",
      "XML: Loading Atom:O2\n",
      "XML: Loading Atom:O3\n",
      "XML: Loading Atom:O4\n",
      "XML: Loading Atom:O5\n",
      "Changed powder pattern: 14001 points, 2theta= 10.000 -> 150.000, step= 0.010\n"
     ]
    }
   ],
   "source": [
    "filename = \"data/HexaFerit01.xml\"\n",
    "crystal_name = \"Strontium Dodecairon(III) Oxide\"\n",
    "cryst = mst.CreateCrystalFromXML(filename, crystal_name)\n",
    "\n",
    "instrProf = mst.PseudoVoigtBroadeningEffect()\n",
    "\n",
    "scattData = mst.PowderPatternDiffraction()\n",
    "scattData.SetCrystal(cryst)\n",
    "\n",
    "pattern = mst.PowderPattern()\n",
    "pattern.SetWavelength(\"CuA1\")\n",
    "\n",
    "pattern.AddComponent(scattData)\n",
    "\n",
    "#profile = mst.ReflectionProfile(cryst, pattern.GetRadiation())\n",
    "rad = mst.Radiation(\"CuA1\", 0.)\n",
    "profile = mst.ReflectionProfile(cryst, rad)\n",
    "profile.SetParentPowderPatternDiffraction(scattData)\n",
    "scattData.SetProfile(profile) # this can be done in SetParentPowderPatternDiffraction ???\n",
    "\n",
    "instrProf.SetParentProfile(profile)\n",
    "\n",
    "pattern.SetPar(10.*np.pi/180., 0.01*np.pi/180., int((150.-10.)/0.01)+1)\n",
    "pattern.SetObsToZero()\n",
    "pattern.SetWeightToUnit()"
   ]
  },
  {
   "cell_type": "code",
   "execution_count": 3,
   "metadata": {},
   "outputs": [
    {
     "data": {
      "image/png": "[encoded data removed]",
      "text/plain": [
       "<Figure size 432x288 with 1 Axes>"
      ]
     },
     "metadata": {
      "needs_background": "light"
     },
     "output_type": "display_data"
    }
   ],
   "source": [
    "pattern.Prepare()\n",
    "ycalc = pattern.GetCalc()\n",
    "\n",
    "# this should be replaced once we have np.array in/out\n",
    "tth = pattern.GetPowderPatternX()\n",
    "plt.plot(180.0/np.pi *tth, ycalc);"
   ]
  },
  {
   "cell_type": "code",
   "execution_count": null,
   "metadata": {},
   "outputs": [],
   "source": []
  }
 ],
 "metadata": {
  "kernelspec": {
   "display_name": "Python 3 (ipykernel) .conda-mst-21-py3",
   "language": "python",
   "name": "conda-env-.conda-mst-21-py3-py"
  },
  "language_info": {
   "codemirror_mode": {
    "name": "ipython",
    "version": 3
   },
   "file_extension": ".py",
   "mimetype": "text/x-python",
   "name": "python",
   "nbconvert_exporter": "python",
   "pygments_lexer": "ipython3",
   "version": "3.9.6"
  }
 },
 "nbformat": 4,
 "nbformat_minor": 4
}
