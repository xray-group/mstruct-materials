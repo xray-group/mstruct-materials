{
 "cells": [
  {
   "cell_type": "markdown",
   "id": "4292e96f-45d6-40bf-b722-6508381c017c",
   "metadata": {},
   "source": [
    "# Simple powder pattern refinement\n",
    "\n",
    "This describs a basic single powder pattern refinement using MStruct Python API. It assumes an intial model is saved in an xml-format. One can use e.g. [MStruct GUI](https://github.com/xray-group/mstruct-gui) to create one. It shows how to:\n",
    "- get calculated pattern\n",
    "- fix and unfix parameters\n",
    "- run a simple LSQ refinement\n",
    "- access parameters, change their values and recalculate the powder pattern\n",
    "- export data and the final refined model\n",
    "\n",
    "Last modified: 2024-02-20, Author: Zdenek"
   ]
  },
  {
   "cell_type": "code",
   "execution_count": 1,
   "id": "17be9418-b2d1-4ce7-b564-c4d910fe664d",
   "metadata": {},
   "outputs": [],
   "source": [
    "import matplotlib.pyplot as plt\n",
    "import numpy as np"
   ]
  },
  {
   "cell_type": "code",
   "execution_count": 2,
   "id": "0f3f352d-aa1a-4034-8e32-63ea62667939",
   "metadata": {},
   "outputs": [
    {
     "name": "stdout",
     "output_type": "stream",
     "text": [
      "0.15.8-python3.11\n"
     ]
    }
   ],
   "source": [
    "import libMStruct as mst\n",
    "print(mst.version())"
   ]
  },
  {
   "cell_type": "markdown",
   "id": "f4fbbaef-594b-4c90-a6e4-5eb4fb4b01ec",
   "metadata": {},
   "source": [
    "### Load data, crystal and microstructure model\n",
    "\n",
    "The whole MStruct project can loaded from an `*.xml` file.\n",
    "\n",
    "#### Generating an MStruct xml-file\n",
    "\n",
    "- If you have `*.imp`, set the number of refinement iteractions to zero and run MStruct binary program. It will produce an `xray.xml`.\n",
    "- If you have neither `*.imp` or MStruct `*.xml` file, try to use [MStruct GUI](https://github.com/xray-group/mstruct-gui) to create one. ;-) \n",
    "\n",
    "Crystal(s) and PowderPattern including data and microstructure model will be loaded in MStruct/ObjCryst global registry after calling `XMLCrystFileLoadAllObject.`"
   ]
  },
  {
   "cell_type": "code",
   "execution_count": 3,
   "id": "0cc4f907-fbe6-4ac7-9434-97fcd6878d95",
   "metadata": {},
   "outputs": [
    {
     "ename": "RuntimeError",
     "evalue": "unidentifiable C++ exception",
     "output_type": "error",
     "traceback": [
      "\u001b[1;31m---------------------------------------------------------------------------\u001b[0m",
      "\u001b[1;31mRuntimeError\u001b[0m                              Traceback (most recent call last)",
      "Cell \u001b[1;32mIn[3], line 1\u001b[0m\n\u001b[1;32m----> 1\u001b[0m \u001b[43mmst\u001b[49m\u001b[38;5;241;43m.\u001b[39;49m\u001b[43mXMLCrystFileLoadAllObject\u001b[49m\u001b[43m(\u001b[49m\u001b[38;5;124;43m'\u001b[39;49m\u001b[38;5;124;43mdata/tio2-film-stress1-start.xml\u001b[39;49m\u001b[38;5;124;43m'\u001b[39;49m\u001b[43m)\u001b[49m\n",
      "\u001b[1;31mRuntimeError\u001b[0m: unidentifiable C++ exception"
     ]
    }
   ],
   "source": [
    "mst.XMLCrystFileLoadAllObject('data/tio2-film-stress1-start.xml')"
   ]
  },
  {
   "cell_type": "markdown",
   "id": "dba9e4c7-26da-4dbd-b6dd-077f47d07dc1",
   "metadata": {},
   "source": [
    "### Powder pattern\n",
    "\n",
    "Get a reference to the PowderPattern object from the global RefinableObj registry by calling `GetPowderPattern` function with the PowderPattern object name as its single argument."
   ]
  },
  {
   "cell_type": "code",
   "execution_count": null,
   "id": "6fdd73a8-c0f1-43d7-8d65-d697bff4605e",
   "metadata": {},
   "outputs": [],
   "source": [
    "pattern = mst.GetPowderPattern('pattern0')"
   ]
  },
  {
   "cell_type": "markdown",
   "id": "b5dd4752-ade6-450b-9497-f1f860e08183",
   "metadata": {},
   "source": [
    "Prepare PowderPattern data for computation, (optionally) fit scale factor and fianlly get a calcuated pattern."
   ]
  },
  {
   "cell_type": "code",
   "execution_count": null,
   "id": "c83b239f-e855-4e11-bee8-2de0eb6fe2bb",
   "metadata": {},
   "outputs": [],
   "source": [
    "pattern.Prepare()\n",
    "pattern.FitScaleFactorForRw() # try to comment this line\n",
    "ycalc = pattern.GetCalc()"
   ]
  },
  {
   "cell_type": "markdown",
   "id": "fbb550b4-4f31-4371-a619-a0196690c0f9",
   "metadata": {},
   "source": [
    "### Plotting\n",
    "\n",
    "We do not have a nice PowderPattern Python wrapper as in ObjCryst so we nned a simple plotting routine. Feel free to customize. :-)"
   ]
  },
  {
   "cell_type": "code",
   "execution_count": null,
   "id": "4038df4d-9427-4609-a093-6b6dbf41cc9b",
   "metadata": {},
   "outputs": [],
   "source": [
    "def ms_plot(pattern, xl=(), yl=(), figsize=()):\n",
    "    if figsize not in [(), None, []]:\n",
    "        plt.figure(figsize = figsize)\n",
    "\n",
    "    x = pattern.GetPowderPatternX()\n",
    "    yobs = pattern.GetPowderPatternObs()\n",
    "    ycalc = pattern.GetCalc()\n",
    "    ydiff = yobs - ycalc\n",
    "    \n",
    "    lindx = np.ones_like(x, dtype=bool)\n",
    "    \n",
    "    if xl not in [(), None, []]:\n",
    "        plt.xlim(xl)\n",
    "        lindx = np.logical_and(x>=xl[0]*np.pi/180., x<=xl[1]*np.pi/180.)\n",
    "    if yl not in [(), None, []]:\n",
    "        plt.xlim(yl)\n",
    "\n",
    "    plt.plot(180.0/np.pi *x[lindx], np.sqrt(yobs[lindx]), 'r*', ms=2)\n",
    "    plt.plot(180.0/np.pi *x[lindx], np.sqrt(ycalc[lindx]), 'b-')\n",
    "    plt.plot(180.0/np.pi *x[lindx], np.sqrt(np.abs(ydiff[lindx]))*np.sign(ydiff[lindx]), 'g-')\n",
    "    plt.ylabel('sqrt( Intensity )')\n",
    "    plt.xlabel('2Theta (deg)');"
   ]
  },
  {
   "cell_type": "code",
   "execution_count": null,
   "id": "c9f7281b-6526-4642-a932-8e515f5cd412",
   "metadata": {},
   "outputs": [],
   "source": [
    "ms_plot(pattern, figsize=(12,6))"
   ]
  },
  {
   "cell_type": "markdown",
   "id": "76604433-682e-474c-983e-bc4de49f97ff",
   "metadata": {},
   "source": [
    "Plot a detail."
   ]
  },
  {
   "cell_type": "code",
   "execution_count": null,
   "id": "8dd5916a-b507-4493-aba7-39136b3c8efd",
   "metadata": {},
   "outputs": [],
   "source": [
    "ms_plot(pattern, figsize=(12,6), xl=(92,103))"
   ]
  },
  {
   "cell_type": "markdown",
   "id": "c457b83b-87d1-4bd3-a60e-268632bc47d8",
   "metadata": {},
   "source": [
    "The peak positions are slightly off."
   ]
  },
  {
   "cell_type": "markdown",
   "id": "3943492d-86e2-4905-ad2d-8220a8e54988",
   "metadata": {},
   "source": [
    "### Refinement"
   ]
  },
  {
   "cell_type": "code",
   "execution_count": null,
   "id": "590080e5-7480-4047-a57e-7614c03ebdad",
   "metadata": {},
   "outputs": [],
   "source": [
    "# Create MStruct & ObjCryst LSQ optimization object for the Powderpattern\n",
    "# and intialize refinement parameters list. (connect LSQ and pattern together)\n",
    "lsq = mst.LSQ()\n",
    "\n",
    "lsq.SetRefinedObj(obj=pattern, LSQFuncIndex=0, init=True, recursive=True)\n",
    "lsq.AddRefinableObj(obj=pattern) # MStruct LSQ is a compbination of ObjCryst LSQ and ObjCryst Optimization"
   ]
  },
  {
   "cell_type": "markdown",
   "id": "b2879266-a079-40b3-892d-754dce48bb23",
   "metadata": {},
   "source": [
    "If we check `pattern` we do not see all refinable parameters."
   ]
  },
  {
   "cell_type": "code",
   "execution_count": null,
   "id": "2e589e8f-6f39-47fe-a19a-b6e9e1624379",
   "metadata": {},
   "outputs": [],
   "source": [
    "pattern.Print()"
   ]
  },
  {
   "cell_type": "markdown",
   "id": "0789902d-e2b3-4be4-9f02-de3ca5ecf515",
   "metadata": {},
   "source": [
    "This is why we have to work with a recursively compiled refinable object provided by LSQ."
   ]
  },
  {
   "cell_type": "code",
   "execution_count": null,
   "id": "b9059059-847d-4aad-b366-bc491ded5881",
   "metadata": {},
   "outputs": [],
   "source": [
    "lsq.PrepareRefParList(copy_param=False)  # must be called first !\n",
    "lsqr = lsq.GetCompiledRefinedObj()\n",
    "lsqr.Print()"
   ]
  },
  {
   "cell_type": "markdown",
   "id": "0e932277-4260-46d9-b808-a3c5dd2346c1",
   "metadata": {},
   "source": [
    "### Fix parameter\n",
    "\n",
    "We can see the *Stress* parameter is zero and not fixed. Let's fix it."
   ]
  },
  {
   "cell_type": "code",
   "execution_count": null,
   "id": "a7131e98-2b24-49ab-8221-8933c71b88d8",
   "metadata": {},
   "outputs": [],
   "source": [
    "lsq.SetParIsFixed(parName=\"Stress\", fix=True)"
   ]
  },
  {
   "cell_type": "markdown",
   "id": "e1862970-2861-4b07-b8ad-45683f93bca4",
   "metadata": {},
   "source": [
    "Auxilliary function `refine` for fitting ... parameters refinement. It includes everything that we would need to repeat always."
   ]
  },
  {
   "cell_type": "code",
   "execution_count": null,
   "id": "ea896d0d-ae23-4c4c-ad20-a5ec1022b4ab",
   "metadata": {},
   "outputs": [],
   "source": [
    "def refine(lsq, nbCycle=-10, silent=False):\n",
    "    # Refinement\n",
    "    lsq.PrepareRefParList(copy_param=False)  # must be called first !\n",
    "    # lsq.GetCompiledRefinedObj().Print()\n",
    "    lsqr = lsq.GetCompiledRefinedObj()\n",
    "    lsqr.PrepareForRefinement()\n",
    "    lsq.Refine(nbCycle=nbCycle, useLevenbergMarquardt=True, silent=silent, # use negative nbCycle to allow refinement stop after convergence\n",
    "               callBeginEndOptimization=True, minChi2var=0.001) # note: this may take a while"
   ]
  },
  {
   "cell_type": "code",
   "execution_count": null,
   "id": "7ab96229-6a77-4614-872e-64a407c24009",
   "metadata": {},
   "outputs": [],
   "source": [
    "refine(lsq, nbCycle=-20, silent=False)"
   ]
  },
  {
   "cell_type": "code",
   "execution_count": null,
   "id": "e7716b0e-0f7a-4d88-9577-083d25f3f9fd",
   "metadata": {},
   "outputs": [],
   "source": [
    "ms_plot(pattern, figsize=(12,6))"
   ]
  },
  {
   "cell_type": "code",
   "execution_count": null,
   "id": "c524ed29-8903-4856-8865-e9f33867b37b",
   "metadata": {},
   "outputs": [],
   "source": [
    "ms_plot(pattern, figsize=(12,6), xl=(92,103))"
   ]
  },
  {
   "cell_type": "markdown",
   "id": "e97af12c-cc22-431e-8330-d3d25cca7cac",
   "metadata": {},
   "source": [
    "Let's unfix the *Stress* parameter and refinement again."
   ]
  },
  {
   "cell_type": "code",
   "execution_count": null,
   "id": "813794c9-2356-47cd-8a10-949092e0c95d",
   "metadata": {},
   "outputs": [],
   "source": [
    "lsq.SetParIsFixed(parName=\"Stress\", fix=False)\n",
    "refine(lsq, nbCycle=-20, silent=True)\n",
    "lsq.PrintRefResults()\n",
    "ms_plot(pattern, figsize=(12,6), xl=(92,103))"
   ]
  },
  {
   "cell_type": "markdown",
   "id": "39949b1e-9b6d-4ac1-92b1-4ffdfa1c8b48",
   "metadata": {},
   "source": [
    "So we see the GoF and the peak positions are better."
   ]
  },
  {
   "cell_type": "markdown",
   "id": "230013a0-18ad-4a66-87ef-959e46da6ad3",
   "metadata": {},
   "source": [
    "### Parameter value"
   ]
  },
  {
   "cell_type": "code",
   "execution_count": null,
   "id": "38748bb5-2808-44ba-903a-b0e83f6f1fa2",
   "metadata": {},
   "outputs": [],
   "source": [
    "name = 'Stress'\n",
    "print('%s = %.3f (GPa)' % (name, lsqr.GetPar(name).value,))"
   ]
  },
  {
   "cell_type": "markdown",
   "id": "e4b269b7-adfe-4cbe-8157-c1cef9541172",
   "metadata": {},
   "source": [
    "Let's set it much higher (10x) and see how it affects the powder pattern.\n",
    "\n",
    "It is visible that mainly the peaks above $2\\Theta > 98^\\circ$ are sensitive to it."
   ]
  },
  {
   "cell_type": "code",
   "execution_count": null,
   "id": "f3f0e45e-dcc9-4160-a8da-c12344894a0f",
   "metadata": {},
   "outputs": [],
   "source": [
    "lsqr.GetPar('Stress').value = 3.0 # try positive and engative values\n",
    "ms_plot(pattern, figsize=(12,6), xl=(92,103))"
   ]
  },
  {
   "cell_type": "markdown",
   "id": "fed52cd2-0be8-4cf5-b36b-25e1cf2e9767",
   "metadata": {},
   "source": [
    "### Extended prameter name\n",
    "\n",
    "One can use also a global MStruct function returning parameters from the global MStruct & ObjCryst registry with so called *composed extended parameter name*, e.g. `stressCorrAnatase:Stress`."
   ]
  },
  {
   "cell_type": "code",
   "execution_count": null,
   "id": "1f8c2017-12f2-46f9-bcf7-88f1fea3aac1",
   "metadata": {},
   "outputs": [],
   "source": [
    "mst.GetPar('stressCorrAnatase:Stress').value = 0.0\n",
    "\n",
    "simple_name = 'Stress'\n",
    "print('%s = %.3f (GPa)' % (simple_name, lsqr.GetPar(simple_name).value,))"
   ]
  },
  {
   "cell_type": "markdown",
   "id": "378c4c35-9c44-450e-9d69-adbeea97bd76",
   "metadata": {},
   "source": [
    "Refine it again."
   ]
  },
  {
   "cell_type": "code",
   "execution_count": null,
   "id": "0d3b8384-a74d-409c-9c4a-5564a7940af0",
   "metadata": {},
   "outputs": [],
   "source": [
    "refine(lsq, nbCycle=-20, silent=True)\n",
    "lsq.PrintRefResults()"
   ]
  },
  {
   "cell_type": "markdown",
   "id": "9bb93931-3d87-4ee2-8800-c78a197b3e64",
   "metadata": {},
   "source": [
    "### Saving powder pattern\n",
    "\n",
    "One can always get the observed and calcuated data as numpy arrays as it is illustrated in the `ms_plot` function.\n",
    "\n",
    "A native MStruct function `SavePowderPattern` writing data in a multi-column format is available too ... mainly for convenience."
   ]
  },
  {
   "cell_type": "code",
   "execution_count": null,
   "id": "b7d8c6e0-8127-48a3-a418-179de247459e",
   "metadata": {},
   "outputs": [],
   "source": [
    "pattern.SavePowderPattern('pattern.dat')"
   ]
  },
  {
   "cell_type": "markdown",
   "id": "b2cc3ea4-5bb3-41ed-88f7-fbc3b48d1ebf",
   "metadata": {},
   "source": [
    "### Saving xml-file\n",
    "\n",
    "One may like to saved the final model with refined parameters in the MStruct xml-format using the global `XMLCrystFileSaveGlobal` function.\n",
    "\n",
    "*Note: This will export all MStruct objects loaded and created in this Python session. Even those not explicitely used!*"
   ]
  },
  {
   "cell_type": "code",
   "execution_count": null,
   "id": "5e64fc66-86d2-406c-8685-999cc0d43ccd",
   "metadata": {},
   "outputs": [],
   "source": [
    "mst.XMLCrystFileSaveGlobal('final-ex1.xml')"
   ]
  },
  {
   "cell_type": "code",
   "execution_count": null,
   "id": "0a395157-8240-4484-918d-ac12ee00af59",
   "metadata": {},
   "outputs": [],
   "source": []
  }
 ],
 "metadata": {
  "kernelspec": {
   "display_name": "mst-24a",
   "language": "python",
   "name": "mst-24a"
  },
  "language_info": {
   "codemirror_mode": {
    "name": "ipython",
    "version": 3
   },
   "file_extension": ".py",
   "mimetype": "text/x-python",
   "name": "python",
   "nbconvert_exporter": "python",
   "pygments_lexer": "ipython3",
   "version": "3.11.8"
  },
  "widgets": {
   "application/vnd.jupyter.widget-state+json": {
    "state": {},
    "version_major": 2,
    "version_minor": 0
   }
  }
 },
 "nbformat": 4,
 "nbformat_minor": 5
}
