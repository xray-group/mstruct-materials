{
 "cells": [
  {
   "cell_type": "markdown",
   "metadata": {},
   "source": [
    "# Interpretation of MStruct parameters - Basics 1 "
   ]
  },
  {
   "cell_type": "markdown",
   "metadata": {},
   "source": [
    "This notebook gives some hints on interpretation of some micro-structure model parameters, in particular parameters related to *crystallite size distribution* and *relative fractions of crystalline phases*."
   ]
  },
  {
   "cell_type": "markdown",
   "metadata": {},
   "source": [
    "## Crystallites size"
   ]
  },
  {
   "cell_type": "markdown",
   "metadata": {},
   "source": [
    "Log-normal crystllite size distribution.\n",
    "\n",
    "M - median (usually we use nm as units)\n",
    "\n",
    "sigma - distributun shape parameter (unitless)\n",
    "\n",
    "Volume weighted crystallite size distribution can be calculated as\n",
    "\n",
    "$$ \\langle D \\rangle_V = M \\cdot e^{\\frac{7}{2}\\sigma^2}$$"
   ]
  },
  {
   "cell_type": "code",
   "execution_count": 2,
   "metadata": {},
   "outputs": [
    {
     "name": "stdout",
     "output_type": "stream",
     "text": [
      "median: 3.50 nm\n",
      "shape parameter: 0.450 nm\n",
      "volume weighted size: 7.11 nm\n"
     ]
    },
    {
     "data": {
      "image/png": "[encoded data removed]",
      "text/plain": [
       "<Figure size 432x288 with 1 Axes>"
      ]
     },
     "metadata": {
      "needs_background": "light"
     },
     "output_type": "display_data"
    }
   ],
   "source": [
    "M = 3.5 # nm\n",
    "sigma = 0.45\n",
    "\n",
    "# draw distribution\n",
    "import numpy as np\n",
    "import matplotlib.pyplot as plt\n",
    "import scipy.stats\n",
    "\n",
    "d = np.logspace(np.log10(0.1),np.log10(20.0),200)\n",
    "p = scipy.stats.lognorm.pdf(d/M,sigma) / M\n",
    "\n",
    "plt.plot(d,p)\n",
    "plt.xlabel('D (nm)'), plt.ylabel('CSD')\n",
    "\n",
    "# calculate volume weighted size\n",
    "D_V = M*np.exp(7./2.*sigma**2)\n",
    "print(\"median: %.2f nm\" % (M,))\n",
    "print(\"shape parameter: %.3f nm\" % (sigma,))\n",
    "print(\"volume weighted size: %.2f nm\" % (D_V,))"
   ]
  },
  {
   "cell_type": "markdown",
   "metadata": {},
   "source": [
    "## Quatitative phase analysis"
   ]
  },
  {
   "cell_type": "markdown",
   "metadata": {},
   "source": [
    "weight fraction of phase *i*\n",
    "$$ x_i = \\frac{Scale_i \\cdot (M_{i,cell} V_{i,cell})}{\\sum_i Scale_i \\cdot (M_{i,cell} V_{i,cell})} $$"
   ]
  }
 ],
 "metadata": {
  "kernelspec": {
   "display_name": "Python 3",
   "language": "python",
   "name": "python3"
  },
  "language_info": {
   "codemirror_mode": {
    "name": "ipython",
    "version": 3
   },
   "file_extension": ".py",
   "mimetype": "text/x-python",
   "name": "python",
   "nbconvert_exporter": "python",
   "pygments_lexer": "ipython3",
   "version": "3.6.7"
  }
 },
 "nbformat": 4,
 "nbformat_minor": 2
}
